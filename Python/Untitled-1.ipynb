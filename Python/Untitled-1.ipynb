{
 "cells": [
  {
   "cell_type": "code",
   "execution_count": null,
   "metadata": {},
   "outputs": [],
   "source": [
    "# Import libraries  required\n",
    "# ----------------------------------------------------------------\n",
    "# Get Patient List\n",
    "# Get Search List\n",
    "# Get Single Patient\n",
    "# Get Ward\n",
    "# Scrape Caseno\n",
    "# Scrape Table Dates\n"
   ]
  }
 ],
 "metadata": {
  "language_info": {
   "name": "python"
  },
  "orig_nbformat": 4
 },
 "nbformat": 4,
 "nbformat_minor": 2
}
